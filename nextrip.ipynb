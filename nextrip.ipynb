{
 "cells": [
  {
   "cell_type": "code",
   "execution_count": null,
   "metadata": {},
   "outputs": [],
   "source": [
    "from selenium import webdriver\n",
    "from selenium.webdriver.common.keys import Keys\n",
    "from selenium.webdriver.support.ui import Select\n",
    "from bs4 import BeautifulSoup\n",
    "import re\n",
    "import pandas as pd\n",
    "from tabulate import tabulate\n",
    "import os"
   ]
  },
  {
   "cell_type": "code",
   "execution_count": null,
   "metadata": {},
   "outputs": [],
   "source": [
    "#launch url\n",
    "url = \"https://www.metro.net/riding/nextrip/bus-arrivals/\"\n",
    "\n",
    "# create a new Firefox session\n",
    "driver = webdriver.Firefox()\n",
    "driver.implicitly_wait(30)\n",
    "driver.get(url)\n",
    "\n",
    "# select bus stop information\n",
    "route = Select(driver.find_element_by_name('routeSelector'))\n",
    "direction = Select(driver.find_element_by_name('directionSelector'))\n",
    "stop = Select(driver.find_element_by_name('stopSelector'))\n",
    "\n",
    "# select by value\n",
    "route.select_by_value('704')\n",
    "direction.select_by_value('704_165_0')\n",
    "stop.select_by_value('14422')\n",
    "\n",
    "\n",
    "#Selenium hands the page source to Beautiful Soup\n",
    "soup=BeautifulSoup(driver, 'lxml')\n",
    "info = soup.find_all(id='predictionFrame')\n",
    "print(info)\n",
    "\n",
    "#end the Selenium browser session\n",
    "driver.quit()\n"
   ]
  },
  {
   "cell_type": "code",
   "execution_count": null,
   "metadata": {},
   "outputs": [],
   "source": [
    "\n"
   ]
  }
 ],
 "metadata": {
  "kernelspec": {
   "display_name": "Python 3",
   "language": "python",
   "name": "python3"
  },
  "language_info": {
   "codemirror_mode": {
    "name": "ipython",
    "version": 3
   },
   "file_extension": ".py",
   "mimetype": "text/x-python",
   "name": "python",
   "nbconvert_exporter": "python",
   "pygments_lexer": "ipython3",
   "version": "3.7.6"
  }
 },
 "nbformat": 4,
 "nbformat_minor": 4
}
